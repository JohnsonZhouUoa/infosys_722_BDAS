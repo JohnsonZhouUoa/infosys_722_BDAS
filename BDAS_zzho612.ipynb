{
 "cells": [
  {
   "cell_type": "code",
   "execution_count": 1,
   "metadata": {},
   "outputs": [],
   "source": [
    "# Must be included at the beginning of each new notebook. Remember to change the app name.\n",
    "import findspark\n",
    "findspark.init('/home/ubuntu/spark-2.1.1-bin-hadoop2.7')\n",
    "import pyspark\n",
    "from pyspark.sql import SparkSession\n",
    "spark = SparkSession.builder.appName('BDAS_ZZHO612').getOrCreate()"
   ]
  },
  {
   "cell_type": "code",
   "execution_count": 2,
   "metadata": {},
   "outputs": [
    {
     "name": "stdout",
     "output_type": "stream",
     "text": [
      "['ID', 'age', 'sex', 'city', 'province', 'country', 'wuhan(0)_not_wuhan(1)', 'latitude', 'longitude', 'geo_resolution', 'date_onset_symptoms', 'date_admission_hospital', 'date_confirmation', 'symptoms', 'lives_in_Wuhan', 'travel_history_dates', 'travel_history_location', 'reported_market_exposure', 'additional_information', 'chronic_disease_binary', 'chronic_disease', 'source', 'sequence_available', 'outcome', 'date_death_or_discharge', 'notes_for_discussion', 'location', 'admin3', 'admin2', 'admin1', 'country_new', 'admin_id', 'data_moderator_initials', '_c33', '_c34', '_c35', '_c36', '_c37', '_c38', '_c39', '_c40', '_c41', '_c42', '_c43', '_c44']\n"
     ]
    }
   ],
   "source": [
    "# Importing data which has a header. Schema is automatically configured.\n",
    "cov19_patient_df = spark.read.csv('COVID19_open_line_list.csv', header=True, inferSchema=True)\n",
    "\n",
    "# Let's see the data. You'll notice nulls.\n",
    "cov19_patient_df.count()\n",
    "print(cov19_patient_df.columns)"
   ]
  },
  {
   "cell_type": "code",
   "execution_count": 3,
   "metadata": {},
   "outputs": [
    {
     "name": "stdout",
     "output_type": "stream",
     "text": [
      "[('ID', 'string'), ('age', 'string'), ('sex', 'string'), ('city', 'string'), ('province', 'string'), ('country', 'string'), ('wuhan(0)_not_wuhan(1)', 'int'), ('latitude', 'string'), ('longitude', 'string'), ('geo_resolution', 'string'), ('date_onset_symptoms', 'string'), ('date_admission_hospital', 'string'), ('date_confirmation', 'string'), ('symptoms', 'string'), ('lives_in_Wuhan', 'string'), ('travel_history_dates', 'string'), ('travel_history_location', 'string'), ('reported_market_exposure', 'string'), ('additional_information', 'string'), ('chronic_disease_binary', 'string'), ('chronic_disease', 'string'), ('source', 'string'), ('sequence_available', 'string'), ('outcome', 'string'), ('date_death_or_discharge', 'string'), ('notes_for_discussion', 'string'), ('location', 'string'), ('admin3', 'string'), ('admin2', 'string'), ('admin1', 'string'), ('country_new', 'string'), ('admin_id', 'string'), ('data_moderator_initials', 'string'), ('_c33', 'string'), ('_c34', 'string'), ('_c35', 'string'), ('_c36', 'string'), ('_c37', 'string'), ('_c38', 'string'), ('_c39', 'string'), ('_c40', 'string'), ('_c41', 'string'), ('_c42', 'string'), ('_c43', 'string'), ('_c44', 'string')]\n"
     ]
    }
   ],
   "source": [
    "print(cov19_patient_df.dtypes)"
   ]
  },
  {
   "cell_type": "code",
   "execution_count": 4,
   "metadata": {},
   "outputs": [
    {
     "name": "stdout",
     "output_type": "stream",
     "text": [
      "+-------+--------------------+\n",
      "|summary|                  ID|\n",
      "+-------+--------------------+\n",
      "|  count|               13198|\n",
      "|   mean|   6769.250436498899|\n",
      "| stddev|   3920.886020268424|\n",
      "|    min|                   1|\n",
      "|    max|https://www.thela...|\n",
      "+-------+--------------------+\n",
      "\n",
      "None\n"
     ]
    }
   ],
   "source": [
    "print(cov19_patient_df[[\"ID\"]].describe().show())"
   ]
  },
  {
   "cell_type": "code",
   "execution_count": 5,
   "metadata": {},
   "outputs": [
    {
     "name": "stdout",
     "output_type": "stream",
     "text": [
      "+-------+--------------------+\n",
      "|summary|                 age|\n",
      "+-------+--------------------+\n",
      "|  count|                1591|\n",
      "|   mean|  43.840644725822536|\n",
      "| stddev|  17.016446953410178|\n",
      "|    min| Ankang City\tShaa...|\n",
      "|    max|                  NA|\n",
      "+-------+--------------------+\n",
      "\n",
      "None\n"
     ]
    }
   ],
   "source": [
    "print(cov19_patient_df[[\"age\"]].describe().show())"
   ]
  },
  {
   "cell_type": "code",
   "execution_count": 6,
   "metadata": {},
   "outputs": [
    {
     "name": "stdout",
     "output_type": "stream",
     "text": [
      "+-------+------+\n",
      "|summary|   sex|\n",
      "+-------+------+\n",
      "|  count|  1470|\n",
      "|   mean|4000.0|\n",
      "| stddev|   NaN|\n",
      "|    min|  4000|\n",
      "|    max|stable|\n",
      "+-------+------+\n",
      "\n",
      "None\n"
     ]
    }
   ],
   "source": [
    "print(cov19_patient_df[[\"sex\"]].describe().show())"
   ]
  },
  {
   "cell_type": "code",
   "execution_count": 7,
   "metadata": {
    "scrolled": true
   },
   "outputs": [
    {
     "name": "stdout",
     "output_type": "stream",
     "text": [
      "Columns in this data sets are: \n",
      "Index(['age', 'sex', 'city', 'province', 'country', 'wuhan(0)_not_wuhan(1)',\n",
      "       'latitude', 'longitude', 'geo_resolution', 'date_onset_symptoms',\n",
      "       'date_admission_hospital', 'date_confirmation', 'symptoms',\n",
      "       'lives_in_Wuhan', 'travel_history_dates', 'travel_history_location',\n",
      "       'reported_market_exposure', 'additional_information',\n",
      "       'chronic_disease_binary', 'chronic_disease', 'source',\n",
      "       'sequence_available', 'outcome', 'date_death_or_discharge',\n",
      "       'notes_for_discussion', 'location', 'admin3', 'admin2', 'admin1',\n",
      "       'country_new', 'admin_id', 'data_moderator_initials', 'Unnamed: 33',\n",
      "       'Unnamed: 34', 'Unnamed: 35', 'Unnamed: 36', 'Unnamed: 37',\n",
      "       'Unnamed: 38', 'Unnamed: 39', 'Unnamed: 40', 'Unnamed: 41',\n",
      "       'Unnamed: 42', 'Unnamed: 43', 'Unnamed: 44'],\n",
      "      dtype='object')\n",
      "The dimension of the nCoV 19 current patient dataset is: \n",
      "91 rows and 44 columns.\n",
      "Index(['age', 'sex', 'city', 'province', 'country', 'wuhan(0)_not_wuhan(1)',\n",
      "       'date_onset_symptoms', 'date_admission_hospital', 'date_confirmation',\n",
      "       'date_death_or_discharge'],\n",
      "      dtype='object')\n",
      "                                     column_name  percent_missing\n",
      "age                                          age        90.450234\n",
      "sex                                          sex        91.051961\n",
      "city                                        city        27.835198\n",
      "province                                province         8.636557\n",
      "country                                  country         6.923404\n",
      "wuhan(0)_not_wuhan(1)      wuhan(0)_not_wuhan(1)         6.767662\n",
      "date_onset_symptoms          date_onset_symptoms        94.718958\n",
      "date_admission_hospital  date_admission_hospital        94.832224\n",
      "date_confirmation              date_confirmation         7.341073\n",
      "date_death_or_discharge  date_death_or_discharge        99.341640\n",
      "                                     column_name  percent_missing\n",
      "age                                          age              0.0\n",
      "sex                                          sex              0.0\n",
      "city                                        city              0.0\n",
      "province                                province              0.0\n",
      "country                                  country              0.0\n",
      "wuhan(0)_not_wuhan(1)      wuhan(0)_not_wuhan(1)              0.0\n",
      "date_onset_symptoms          date_onset_symptoms              0.0\n",
      "date_admission_hospital  date_admission_hospital              0.0\n",
      "date_confirmation              date_confirmation              0.0\n",
      "alive                                      alive              0.0\n"
     ]
    }
   ],
   "source": [
    "import pandas\n",
    "from pyspark.ml.classification import (RandomForestClassifier, GBTClassifier, DecisionTreeClassifier)\n",
    "\n",
    "pandas.set_option('display.max_rows', None)\n",
    "cov19_patient_df = pandas.read_csv(\"COVID19_open_line_list.csv\", index_col=\"ID\")\n",
    "# print(\"The dimension of the nCoV 19 patient dataset is: \")\n",
    "# print(str(cov19_patient_df.shape[0]) + \" rows and \" + str(cov19_patient_df.shape[1]) + \" columns.\")\n",
    "print(\"Columns in this data sets are: \")\n",
    "print(cov19_patient_df.columns)\n",
    "# print(\"Columns data type: \")\n",
    "# print(cov19_patient_df.dtypes)\n",
    "\n",
    "# for c in cov19_patient_df.columns:\n",
    "#     print(cov19_patient_df[c].describe())\n",
    "\n",
    "\n",
    "# print(cov19_patient_df['country'].value_counts())\n",
    "# print(cov19_patient_df['age'].value_counts())\n",
    "# print(cov19_patient_df['date_confirmation'].value_counts())\n",
    "# print(cov19_patient_df['sex'].value_counts())\n",
    "\n",
    "# print(cov19_patient_df.isnull().sum())\n",
    "\n",
    "cov19_current_patient_df = cov19_patient_df[ \\\n",
    "    cov19_patient_df['date_death_or_discharge'].notnull() & \\\n",
    "    (cov19_patient_df['date_death_or_discharge'] != \"discharge\")]\n",
    "print(\"The dimension of the nCoV 19 current patient dataset is: \")\n",
    "print(str(cov19_current_patient_df.shape[0]) + \" rows and \" + \\\n",
    "      str(cov19_current_patient_df.shape[1]) + \" columns.\")\n",
    "\n",
    "# print(cov19_current_patient_df['date_death_or_discharge'].value_counts())\n",
    "patient_valid_columns = ['age', 'sex', 'city', 'province', 'country', 'wuhan(0)_not_wuhan(1)',\n",
    "                        'date_onset_symptoms',\n",
    "                         'date_admission_hospital', 'date_confirmation', 'date_death_or_discharge']\n",
    "cov19_current_sub_df = cov19_patient_df[patient_valid_columns]\n",
    "print(cov19_current_sub_df.columns)\n",
    "\n",
    "patients_percent_missing = cov19_current_sub_df.isnull().sum() * 100 / len(cov19_current_sub_df)\n",
    "patients_missing_value_df = pandas.DataFrame({'column_name': cov19_current_sub_df.columns,'percent_missing': patients_percent_missing})\n",
    "print(patients_missing_value_df)\n",
    "\n",
    "cov19_current_sub_df = cov19_current_sub_df[ \\\n",
    "    cov19_current_sub_df['sex'].notnull() & \\\n",
    "    (cov19_current_sub_df['sex'] != 4000) & \\\n",
    "    (cov19_current_sub_df['sex'] != \"Female\") & \\\n",
    "    (cov19_current_sub_df['sex'] != \"Male\")]\n",
    "\n",
    "cov19_current_sub_df = cov19_current_sub_df[ \\\n",
    "    cov19_current_sub_df['age'].notnull() & \\\n",
    "    (cov19_current_sub_df['age'] != \"Belgium\") & \\\n",
    "    (cov19_current_sub_df['age'].astype(\"str\").str.contains(\"-\") == False)]\n",
    "\n",
    "# print(cov19_current_sub_df['age'].value_counts())\n",
    "\n",
    "cov19_current_sub_df[\"alive\"] = (cov19_current_sub_df['date_death_or_discharge'].isnull() | (cov19_current_sub_df['date_death_or_discharge'] == \"discharge\")).astype(int)\n",
    "cov19_current_sub_df.drop(['date_death_or_discharge'], axis=1, inplace=True)\n",
    "# print(cov19_current_sub_df['alive'].value_counts())\n",
    "\n",
    "\n",
    "cov19_current_sub_df_imputed = cov19_current_sub_df.fillna(\"Unknown\")\n",
    "\n",
    "patients_percent_missing = cov19_current_sub_df_imputed.isnull().sum() * 100 / len(cov19_current_sub_df_imputed)\n",
    "patients_missing_value_df = pandas.DataFrame({'column_name': cov19_current_sub_df_imputed.columns,\n",
    "                                 'percent_missing': patients_percent_missing})\n",
    "print(patients_missing_value_df)"
   ]
  },
  {
   "cell_type": "code",
   "execution_count": 8,
   "metadata": {},
   "outputs": [
    {
     "name": "stdout",
     "output_type": "stream",
     "text": [
      "[('age', 'string'), ('sex', 'string'), ('city', 'string'), ('province', 'string'), ('country', 'string'), ('wuhan(0)_not_wuhan(1)', 'double'), ('date_onset_symptoms', 'string'), ('date_admission_hospital', 'string'), ('date_confirmation', 'string'), ('alive', 'bigint')]\n"
     ]
    }
   ],
   "source": [
    "s_df = spark.createDataFrame(cov19_current_sub_df_imputed)\n",
    "from pyspark.mllib.util import MLUtils\n",
    "from pyspark.mllib.regression import LabeledPoint\n",
    "\n",
    "s_df = s_df.na.drop()\n",
    "print(s_df.dtypes)"
   ]
  },
  {
   "cell_type": "code",
   "execution_count": 9,
   "metadata": {},
   "outputs": [
    {
     "name": "stdout",
     "output_type": "stream",
     "text": [
      "2.1.1+hadoop2.7\n"
     ]
    }
   ],
   "source": [
    "print(pyspark.__version__)"
   ]
  },
  {
   "cell_type": "code",
   "execution_count": 10,
   "metadata": {
    "scrolled": false
   },
   "outputs": [],
   "source": [
    "from pyspark.ml import Pipeline\n",
    "from pyspark.ml.feature import StringIndexer, VectorAssembler\n",
    "from pyspark.ml.feature import OneHotEncoder\n",
    "from pyspark.ml import Transformer\n",
    "\n",
    "inputCols = [\"age\", \"sex\", \"city\", \"province\", \"country\", \"date_onset_symptoms\", \"date_admission_hospital\"]\n",
    "#Deal with Categorical Columns\n",
    "#Transform string type columns to string indexer \n",
    "ageIndexer = StringIndexer().setInputCol(\"age\").setOutputCol(\"ageIndex\")\n",
    "sexIndexer = StringIndexer().setInputCol(\"sex\").setOutputCol(\"sexIndex\")\n",
    "cityIndexer = StringIndexer().setInputCol(\"city\").setOutputCol(\"cityIndex\")\n",
    "provinceIndexer = StringIndexer().setInputCol(\"province\").setOutputCol(\"provinceIndex\")\n",
    "countryIndexer = StringIndexer().setInputCol(\"country\").setOutputCol(\"countryIndex\")\n",
    "symptomsIndexer = StringIndexer().setInputCol(\"date_onset_symptoms\").setOutputCol(\"symptomsIndex\")\n",
    "hospitalIndexer = StringIndexer().setInputCol(\"date_admission_hospital\").setOutputCol(\"hospitalIndex\")\n",
    "\n",
    "#Transform string type columns to string indexer \n",
    "ageEncoder = OneHotEncoder().setInputCol(\"ageIndex\").setOutputCol(\"ageVec\")\n",
    "sexEncoder = OneHotEncoder().setInputCol(\"sexIndex\").setOutputCol(\"sexVec\")\n",
    "cityEncoder = OneHotEncoder().setInputCol(\"cityIndex\").setOutputCol(\"cityVec\")\n",
    "provinceEncoder = OneHotEncoder().setInputCol(\"provinceIndex\").setOutputCol(\"provinceVec\")\n",
    "countryEncoder = OneHotEncoder().setInputCol(\"countryIndex\").setOutputCol(\"countryVec\")\n",
    "symptomsEncoder = OneHotEncoder().setInputCol(\"symptomsIndex\").setOutputCol(\"symptomsVec\")\n",
    "hospitalEncoder = OneHotEncoder().setInputCol(\"hospitalIndex\").setOutputCol(\"hospitalVec\")\n",
    "\n",
    "#Assemble everything together to be (\"label\",\"features\") format\n",
    "assembler = VectorAssembler().setInputCols([\"ageVec\", \"sexVec\", \"cityVec\", \"provinceVec\", \"countryVec\", \"symptomsVec\", \"hospitalVec\"]).setOutputCol(\"features\")\n"
   ]
  },
  {
   "cell_type": "code",
   "execution_count": null,
   "metadata": {},
   "outputs": [],
   "source": []
  },
  {
   "cell_type": "code",
   "execution_count": 11,
   "metadata": {},
   "outputs": [],
   "source": [
    "# Create all three models. Note the number of trees. \n",
    "# The more trees you have, the more computation time. But this could also significantly increase accuracy. So there's a tradeoff. \n",
    "dt = DecisionTreeClassifier(labelCol='alive')\n",
    "rf = RandomForestClassifier(labelCol=\"alive\", numTrees=20)\n",
    "pipeline = Pipeline().setStages([ageIndexer, sexIndexer, cityIndexer, provinceIndexer, countryIndexer, symptomsIndexer, hospitalIndexer, ageEncoder, sexEncoder, cityEncoder, provinceEncoder, countryEncoder, symptomsEncoder, hospitalEncoder, assembler])"
   ]
  },
  {
   "cell_type": "code",
   "execution_count": 12,
   "metadata": {},
   "outputs": [
    {
     "name": "stdout",
     "output_type": "stream",
     "text": [
      "root\n",
      " |-- alive: long (nullable = true)\n",
      " |-- features: vector (nullable = true)\n",
      "\n"
     ]
    }
   ],
   "source": [
    "# Train model. \n",
    "model_pip = pipeline.fit(s_df)\n",
    "t_df = model_pip.transform(s_df)\n",
    "selectedCols = ['alive', 'features']\n",
    "df = t_df.select(selectedCols)\n",
    "df.printSchema()\n",
    "(trainingData, testData) = df.randomSplit([0.7, 0.3])\n",
    "#model_dt = dt.fit(trainingData)"
   ]
  },
  {
   "cell_type": "code",
   "execution_count": 13,
   "metadata": {},
   "outputs": [],
   "source": [
    "\n",
    "dt = DecisionTreeClassifier(featuresCol = 'features', labelCol = 'alive', maxDepth = 3)\n",
    "dtModel = dt.fit(trainingData)\n",
    "dt_predictions = dtModel.transform(testData)"
   ]
  },
  {
   "cell_type": "code",
   "execution_count": 14,
   "metadata": {},
   "outputs": [],
   "source": [
    "rf = RandomForestClassifier(featuresCol = 'features', labelCol = 'alive', maxDepth = 3)\n",
    "rfModel = rf.fit(trainingData)\n",
    "rf_predictions = rfModel.transform(testData)"
   ]
  },
  {
   "cell_type": "code",
   "execution_count": 15,
   "metadata": {},
   "outputs": [
    {
     "name": "stdout",
     "output_type": "stream",
     "text": [
      "Test Area Under ROC: 0.8491975650249031\n"
     ]
    }
   ],
   "source": [
    "from pyspark.ml.evaluation import BinaryClassificationEvaluator\n",
    "evaluator = BinaryClassificationEvaluator(labelCol = 'alive')\n",
    "print(\"Test Area Under ROC: \" + str(evaluator.evaluate(dt_predictions, {evaluator.metricName: \"areaUnderROC\"})))"
   ]
  },
  {
   "cell_type": "code",
   "execution_count": 16,
   "metadata": {},
   "outputs": [
    {
     "name": "stdout",
     "output_type": "stream",
     "text": [
      "Test Area Under ROC: 0.8879358052019922\n"
     ]
    }
   ],
   "source": [
    "print(\"Test Area Under ROC: \" + str(evaluator.evaluate(rf_predictions, {evaluator.metricName: \"areaUnderROC\"})))"
   ]
  },
  {
   "cell_type": "code",
   "execution_count": 17,
   "metadata": {},
   "outputs": [
    {
     "name": "stdout",
     "output_type": "stream",
     "text": [
      "+-----+--------------------+--------------------+--------------------+----------+\n",
      "|alive|            features|       rawPrediction|         probability|prediction|\n",
      "+-----+--------------------+--------------------+--------------------+----------+\n",
      "|    0|(660,[0,88,147,45...|[31.9120914900087...|[0.99999999999998...|       0.0|\n",
      "|    0|(660,[3,88,90,436...|[-54.580110486962...|[1.97769444573408...|       1.0|\n",
      "|    0|(660,[5,88,100,45...|[-60.332951897200...|[6.27670783946199...|       1.0|\n",
      "|    0|(660,[6,206,436,5...|[-10.959342057468...|[1.73944485401331...|       1.0|\n",
      "|    0|(660,[12,209,478,...|[63.5376068986614...|[1.0,2.5466421950...|       0.0|\n",
      "|    0|(660,[13,88,90,43...|[-26.250126156450...|[3.97846059569519...|       1.0|\n",
      "|    0|(660,[13,147,453,...|[54.8252868624185...|[1.0,1.5476774215...|       0.0|\n",
      "|    0|(660,[15,88,90,43...|[-29.484343754163...|[1.56715591075685...|       1.0|\n",
      "|    0|(660,[15,88,133,4...|[-89.557363273348...|[1.27564936318685...|       1.0|\n",
      "|    0|(660,[16,132,436,...|[-25.019618229274...|[1.36181421669322...|       1.0|\n",
      "|    0|(660,[17,88,265,4...|[-50.676884453423...|[9.80186511513306...|       1.0|\n",
      "|    0|(660,[18,88,90,43...|[-4.2755493774597...|[0.01371372660412...|       1.0|\n",
      "|    0|(660,[19,88,94,44...|[-52.370400495479...|[1.80228741344194...|       1.0|\n",
      "|    0|(660,[19,88,256,4...|[-31.489279839177...|[2.11047166989166...|       1.0|\n",
      "|    0|(660,[19,391,453,...|[39.4444317364816...|[1.0,7.4045889575...|       0.0|\n",
      "|    0|(660,[22,88,139,4...|[-64.587777987937...|[8.91013781565884...|       1.0|\n",
      "|    0|(660,[32,88,247,4...|[18.4741264742490...|[0.99999999052042...|       0.0|\n",
      "|    0|(660,[40,88,90,43...|[25.5348031268012...|[0.99999999999186...|       0.0|\n",
      "|    0|(660,[42,88,119,4...|[-75.352547822618...|[1.88280040600818...|       1.0|\n",
      "|    0|(660,[43,88,308,4...|[55.2581158549450...|[1.0,1.0039340952...|       0.0|\n",
      "+-----+--------------------+--------------------+--------------------+----------+\n",
      "only showing top 20 rows\n",
      "\n"
     ]
    }
   ],
   "source": [
    "from pyspark.ml.classification import LogisticRegression\n",
    "\n",
    "lr = LogisticRegression(labelCol = 'alive')\n",
    "\n",
    "# Now we're fitting the model on a subset of data.\n",
    "lrModel = lr.fit(trainingData)\n",
    "\n",
    "# And evaluating it against the test data.\n",
    "lr_predictions = lrModel.evaluate(testData)\n",
    "\n",
    "lr_predictions.predictions.show()"
   ]
  },
  {
   "cell_type": "code",
   "execution_count": 18,
   "metadata": {},
   "outputs": [
    {
     "name": "stdout",
     "output_type": "stream",
     "text": [
      "Test Area Under ROC: 0.7864554510237962\n",
      "Multinomial coefficients: DenseMatrix([[ 1.06001374e+01, -9.20466168e+00,  3.40729884e+01,\n",
      "               3.52030292e+01, -1.93770816e+01,  1.91363264e+01,\n",
      "               8.14853988e+00, -1.15747892e+01,  1.12339151e+01,\n",
      "               1.26669853e+01,  1.53020816e+01,  7.94074020e+00,\n",
      "              -5.12830742e+00,  6.87304490e+00,  1.28585407e+01,\n",
      "               7.94584249e+00,  6.56079956e+00,  1.83464854e+01,\n",
      "              -1.51015319e+01,  1.16684345e+00,  1.47832209e+01,\n",
      "               1.42864358e+01,  5.08731915e+00, -3.63986534e+01,\n",
      "              -5.70423476e+00,  1.40510377e+01,  6.08065862e+00,\n",
      "               1.19124540e+01,  9.91029490e+00,  8.29616287e+00,\n",
      "               1.17879539e+01,  5.88054181e+00, -3.68732567e+01,\n",
      "               5.13307940e+00,  6.19189198e+00,  3.44124333e+00,\n",
      "               2.54452107e+01,  1.01861205e+01,  1.49643218e+01,\n",
      "              -9.24434228e-02, -5.18614634e+01,  1.00508178e+01,\n",
      "               5.47054475e+00, -5.04654287e+01,  8.59366626e+00,\n",
      "               6.83391537e+00,  5.14041761e+00,  6.32662416e+00,\n",
      "               3.52673948e+00,  9.16489462e+00,  9.06666548e+00,\n",
      "               3.37548932e-01, -1.17941711e+01,  7.43710237e+00,\n",
      "               5.73573340e+00,  2.68503045e+00,  2.17697083e+01,\n",
      "               2.17100712e+01,  4.64682759e+00,  3.06836102e+01,\n",
      "               4.73269492e+00, -2.82296419e+01,  1.40778450e+01,\n",
      "               1.09405058e+01,  5.12457598e+00, -6.44772354e+01,\n",
      "               6.49652823e+00,  1.43403613e+01,  5.34641688e+00,\n",
      "               6.02515700e+00,  9.96651475e+00,  2.27171364e+01,\n",
      "               5.54332972e+00,  3.91028409e+00,  6.67490106e+01,\n",
      "               3.33513356e+01,  5.74116495e+00,  0.00000000e+00,\n",
      "               4.40624461e+00, -4.56014920e+01,  0.00000000e+00,\n",
      "               4.42810275e+00,  7.96826825e+00,  6.09981541e+00,\n",
      "               5.28433490e+00,  0.00000000e+00,  4.44264897e+00,\n",
      "              -2.87516929e+01,  1.30907945e+01, -1.24447516e-01,\n",
      "              -7.31728346e+00,  7.17944390e+00,  1.09007113e+01,\n",
      "               6.77850555e+00,  5.62794642e+00,  1.09189074e+01,\n",
      "               1.01384202e+01,  9.55895257e+00,  5.83473185e+00,\n",
      "               2.21102744e+01, -1.49357424e+01, -1.06068698e+01,\n",
      "               8.40828094e+00,  6.51169450e+00,  5.19106731e+00,\n",
      "               5.71009631e+00,  7.25364245e+00,  4.73421260e+00,\n",
      "               4.09934715e+01,  7.27379088e+00,  7.05941853e+00,\n",
      "               1.44631294e+01,  6.12048416e+00,  8.92371330e+00,\n",
      "               1.00123780e+01,  8.78285649e+00,  9.67099890e+00,\n",
      "              -2.30038118e+01,  6.07893482e+00,  1.08277979e+01,\n",
      "               4.17796722e+00,  8.56124502e+00,  5.62718907e+00,\n",
      "               5.84988022e+00,  7.31159845e+00,  6.00137601e+00,\n",
      "               1.19252224e+01,  7.69151289e+00,  7.51467460e+00,\n",
      "               7.91407163e+00,  4.61742939e+00,  6.58091431e+00,\n",
      "               2.81905323e+01,  1.42150413e+01,  5.73362891e+00,\n",
      "               4.70136310e+00,  5.79114988e+00,  3.01827737e+01,\n",
      "               1.06260931e+01,  6.89617989e+00,  7.02655519e+00,\n",
      "               7.49123831e+00,  1.17093690e+01,  5.64037045e+00,\n",
      "               9.34038287e+00,  5.05857719e+00,  1.58517842e+01,\n",
      "              -2.95008427e+01,  1.24782487e+01,  2.84341458e+01,\n",
      "               4.72623823e+00,  1.63629963e+01,  8.49383376e+00,\n",
      "               5.62334017e+00,  6.44475524e+00,  8.94735025e+00,\n",
      "               4.91943542e+00,  7.81909252e+00,  4.52430288e+00,\n",
      "               4.43406117e+00,  5.64510499e+00,  4.11961647e+00,\n",
      "               5.38142489e+00,  1.18546739e+01,  4.54206716e+00,\n",
      "               7.79855130e+00,  5.80796990e+00, -3.61847690e+01,\n",
      "               4.70392145e+00,  4.79113747e+00,  9.46267145e+00,\n",
      "              -5.37463107e+01,  0.00000000e+00,  4.63704753e+00,\n",
      "               5.62844841e+00,  7.24207437e+00,  5.24511111e+00,\n",
      "               0.00000000e+00,  6.17928544e+00,  4.62781606e+00,\n",
      "               5.58999825e+00,  4.93023348e+00,  0.00000000e+00,\n",
      "               7.89469402e+00,  1.57030706e+01,  5.02624983e+00,\n",
      "              -4.44801816e+01,  3.55037998e+01,  6.97274787e+00,\n",
      "               0.00000000e+00, -3.57741445e+01,  1.22296883e+01,\n",
      "               4.50319438e+01,  0.00000000e+00,  5.35801652e+00,\n",
      "               2.27171364e+01,  4.89077556e+00,  5.86115133e+00,\n",
      "               5.40968601e+00,  1.90291962e+01,  1.01150204e+01,\n",
      "               1.58520185e+01,  8.06378318e+00,  6.18549780e+00,\n",
      "               6.57410586e+00,  5.43656914e+00,  0.00000000e+00,\n",
      "              -2.91217388e+01,  8.31545791e+00, -2.91947456e+01,\n",
      "               6.92202957e+00,  5.61781414e+00,  6.09981541e+00,\n",
      "               4.39914412e+00,  4.85777902e+00,  5.38172665e+00,\n",
      "               4.33565543e+00,  1.05115806e+01,  5.22175348e+00,\n",
      "               3.90875101e+00,  4.08666706e+00,  0.00000000e+00,\n",
      "               5.58862129e+00,  0.00000000e+00,  1.04841646e+01,\n",
      "               4.92903439e+00,  1.02866037e+01,  0.00000000e+00,\n",
      "               6.84362011e+00,  5.11619231e+00,  6.82372599e+00,\n",
      "               1.61848246e+01,  6.53315373e+00,  4.28409928e+00,\n",
      "              -2.91345068e+01,  1.02311067e+01,  2.14030920e+01,\n",
      "               7.01298718e+00,  5.15309445e+00,  0.00000000e+00,\n",
      "               7.92131864e+00,  1.15554646e+01,  6.87009393e+00,\n",
      "              -9.31136623e+01,  8.90250533e+00,  1.37881599e+01,\n",
      "               0.00000000e+00,  0.00000000e+00,  5.58682279e+00,\n",
      "               5.37163105e+00,  4.93635049e+00,  3.82377483e+00,\n",
      "               0.00000000e+00,  5.35782090e+00,  2.35091221e+01,\n",
      "               9.56908519e+00,  0.00000000e+00,  0.00000000e+00,\n",
      "               0.00000000e+00,  3.94850352e+00,  0.00000000e+00,\n",
      "               6.26046797e+00,  0.00000000e+00,  4.79819477e+00,\n",
      "               0.00000000e+00,  0.00000000e+00,  4.80348479e+00,\n",
      "               5.63193426e+00,  0.00000000e+00,  5.69301590e+00,\n",
      "               0.00000000e+00,  1.07334981e+01,  1.02270706e+01,\n",
      "               7.55213891e+00,  6.17344237e+00,  0.00000000e+00,\n",
      "               5.95110297e+00,  1.01255881e+01,  5.67944767e+00,\n",
      "               0.00000000e+00,  2.70099257e+01,  5.44375544e+00,\n",
      "              -7.05837971e+01,  5.47423506e+00,  5.92310114e+00,\n",
      "               1.98023441e+01, -4.15844954e+01,  8.95101915e+00,\n",
      "               0.00000000e+00, -3.57603077e+01,  7.47797440e+00,\n",
      "               6.40638593e+00,  1.98023441e+01,  6.67960728e+00,\n",
      "               8.97962676e+00,  4.78555961e+00,  0.00000000e+00,\n",
      "               3.06119494e+01,  0.00000000e+00,  0.00000000e+00,\n",
      "               0.00000000e+00,  3.65467629e+00,  5.26299152e+00,\n",
      "               1.07947643e+01,  7.32049288e+00,  7.56486073e+00,\n",
      "               0.00000000e+00,  0.00000000e+00,  0.00000000e+00,\n",
      "               9.12786975e+00,  0.00000000e+00, -5.84994468e+01,\n",
      "               5.44745687e+00,  0.00000000e+00,  8.13685299e+00,\n",
      "               6.00273054e+00,  1.98624685e+01,  9.79824309e+00,\n",
      "               4.68601578e+00,  4.12924058e+00,  4.43173378e+01,\n",
      "               1.68624407e+01,  6.36627435e+00,  6.26072622e+00,\n",
      "               0.00000000e+00,  0.00000000e+00,  0.00000000e+00,\n",
      "               2.34476415e+01,  0.00000000e+00,  1.19136217e+01,\n",
      "               7.29923268e+00,  5.50115990e+00,  0.00000000e+00,\n",
      "               1.46566024e+01,  0.00000000e+00,  2.04544899e+01,\n",
      "               8.53903497e+00,  0.00000000e+00,  5.34012224e+00,\n",
      "               6.60094327e+00,  4.79824871e+00,  5.00224882e+00,\n",
      "               5.13651172e+00, -4.67075471e+01,  2.87659867e+01,\n",
      "               0.00000000e+00,  9.79547173e+00,  0.00000000e+00,\n",
      "               6.79525782e+00,  0.00000000e+00,  0.00000000e+00,\n",
      "               0.00000000e+00,  4.23587608e+00,  9.70208384e+00,\n",
      "               0.00000000e+00,  0.00000000e+00,  5.53176400e+00,\n",
      "               5.58999825e+00,  0.00000000e+00,  5.06216048e+00,\n",
      "               4.24239856e+00,  8.44762543e+00,  3.17819332e+01,\n",
      "               5.14265006e+00,  0.00000000e+00,  7.85736094e+00,\n",
      "               1.17910501e+01,  2.00205748e+01,  0.00000000e+00,\n",
      "              -2.94557814e+01, -1.09852647e+02,  0.00000000e+00,\n",
      "               8.53805213e+00,  1.32451911e+01,  1.40506283e+01,\n",
      "               6.10926984e+00,  6.12076969e+00,  5.06936566e+00,\n",
      "               0.00000000e+00,  7.63734253e+00,  0.00000000e+00,\n",
      "               0.00000000e+00,  1.43403613e+01,  0.00000000e+00,\n",
      "               5.39839273e+00,  6.38546111e+00,  3.78841283e+01,\n",
      "               1.42364018e+01,  0.00000000e+00,  0.00000000e+00,\n",
      "               0.00000000e+00,  0.00000000e+00, -2.90920772e+01,\n",
      "               6.16713179e+00,  6.24556593e+00,  1.37121069e+01,\n",
      "               1.26015421e+01,  1.24481787e+01,  4.29036878e+00,\n",
      "              -2.87516929e+01,  0.00000000e+00, -9.24207084e+01,\n",
      "               0.00000000e+00,  4.84144713e+00,  0.00000000e+00,\n",
      "               4.59913001e+00,  4.49637618e+01,  0.00000000e+00,\n",
      "               0.00000000e+00,  6.42266197e+00,  3.06577369e+01,\n",
      "               0.00000000e+00,  4.73530803e+00,  4.88925650e+00,\n",
      "               0.00000000e+00,  1.97947681e+01,  0.00000000e+00,\n",
      "               0.00000000e+00,  4.62301613e+00,  1.72436495e+01,\n",
      "               1.10929483e+01,  0.00000000e+00,  7.03874972e+00,\n",
      "               1.20610085e+01,  1.19814358e+01,  4.82816141e+00,\n",
      "               6.52631994e+00,  5.61050351e+00,  2.04409582e+01,\n",
      "               0.00000000e+00,  0.00000000e+00,  3.77099795e+00,\n",
      "               6.14976862e+00, -3.59087155e+01,  0.00000000e+00,\n",
      "               5.46173944e+00, -1.55884718e+00,  1.00638503e+01,\n",
      "               7.96319510e+00,  1.21606585e-01,  7.45152004e+00,\n",
      "               7.14598680e+00,  6.26819302e+00,  9.63100087e+00,\n",
      "               9.47000423e+00,  9.91325453e+00,  5.21992328e+00,\n",
      "               1.19106233e+01,  5.76803357e+00,  1.83445094e+01,\n",
      "               8.14520629e+00, -1.13136213e+01,  5.67872314e+00,\n",
      "              -3.89998471e+01,  6.18277062e+00,  8.68197233e+00,\n",
      "              -9.74382073e+00,  5.78283224e+00,  1.08277979e+01,\n",
      "               7.91407163e+00,  9.13927797e+00,  7.08039337e+00,\n",
      "              -1.39247914e+01,  7.69151289e+00,  6.89617989e+00,\n",
      "               1.42150413e+01,  1.17093690e+01,  5.00224882e+00,\n",
      "               6.08052861e+00,  8.74277535e+00,  8.85826396e+00,\n",
      "               6.36893223e+00,  1.42467868e+01,  4.79113747e+00,\n",
      "               5.26540693e+00, -8.85228255e+00,  9.12786975e+00,\n",
      "               1.01348251e+01, -2.91947456e+01,  2.30449986e+01,\n",
      "               4.93023348e+00,  4.28409928e+00,  5.77039400e+00,\n",
      "               9.70208384e+00,  1.01150204e+01,  9.99212209e+00,\n",
      "               9.16979850e+00,  5.78320148e+00,  6.17928544e+00,\n",
      "               4.62301613e+00,  5.74116495e+00, -1.18829666e+02,\n",
      "               0.00000000e+00,  1.07947643e+01,  0.00000000e+00,\n",
      "               0.00000000e+00,  9.79547173e+00,  6.10926984e+00,\n",
      "               1.37881599e+01, -2.91345068e+01,  7.47797440e+00,\n",
      "               0.00000000e+00, -3.59087155e+01,  1.17910501e+01,\n",
      "              -2.90920772e+01,  4.43173378e+01,  7.62009813e+00,\n",
      "              -3.57603077e+01,  0.00000000e+00,  8.63477208e+00,\n",
      "               5.95110297e+00,  0.00000000e+00,  8.13685299e+00,\n",
      "               7.63734253e+00,  5.44745687e+00,  0.00000000e+00,\n",
      "               0.00000000e+00,  7.29923268e+00,  0.00000000e+00,\n",
      "               1.97947681e+01,  1.12322494e+01,  2.44301892e+01,\n",
      "              -8.81231370e+00,  1.70131295e+01, -2.55861592e+01,\n",
      "               1.11608817e+01,  1.62190740e+01, -6.74308920e+00,\n",
      "               1.01394583e+01,  8.64257347e+00, -2.69315772e+00,\n",
      "               1.06238191e+01,  8.54458339e+00,  9.13927797e+00,\n",
      "               1.12322494e+01,  6.69934465e+00, -2.92084828e+01,\n",
      "               7.55213891e+00,  7.24207437e+00,  1.01150204e+01,\n",
      "               1.16677417e+01,  1.34407228e+01,  0.00000000e+00,\n",
      "               8.63477208e+00,  1.19136217e+01,  0.00000000e+00,\n",
      "               2.36836397e+01, -2.90920772e+01,  1.09405058e+01,\n",
      "               1.17910501e+01,  0.00000000e+00,  1.02311067e+01,\n",
      "               2.35091221e+01,  5.44745687e+00,  6.28290238e+00,\n",
      "               9.02577336e+00,  1.14968459e+01,  1.27773604e+01,\n",
      "              -6.94863156e+00, -2.46335585e+00,  3.41776833e-02,\n",
      "               6.52066550e+00,  1.01054721e+00, -3.88239747e+00,\n",
      "               5.77611986e+00,  7.66193336e+00,  1.61356982e+00,\n",
      "               1.74341346e+01,  1.51486248e+00,  9.19999703e+00,\n",
      "               6.77218171e+00,  6.35449596e+00,  4.78594782e+00,\n",
      "               1.85477568e+01,  1.66994093e+01,  6.04576666e+00,\n",
      "               6.04371053e+00,  1.94355111e+01,  1.01870211e+01,\n",
      "               1.05472055e+00, -1.46497268e+00,  2.18051186e+01,\n",
      "               6.25590412e+00, -5.63609184e+00, -7.03449887e+00,\n",
      "               2.07919969e+01,  7.27663968e+00,  4.42552494e+00,\n",
      "               1.20864285e+01,  6.46836153e+01,  8.21646136e+00,\n",
      "               1.46471362e+01, -6.93167942e+01,  1.20240209e+01,\n",
      "               5.73362891e+00,  1.54028731e+01,  0.00000000e+00,\n",
      "               4.74930603e+00,  0.00000000e+00,  0.00000000e+00,\n",
      "               0.00000000e+00,  0.00000000e+00,  7.55213891e+00,\n",
      "               0.00000000e+00,  0.00000000e+00,  0.00000000e+00,\n",
      "               3.83153916e+00,  1.83875434e+01,  1.01148716e+01,\n",
      "               8.06836178e+00, -4.83609788e+00,  1.82501460e+00,\n",
      "               5.98363838e+00,  1.77822383e+01,  1.60651459e+01,\n",
      "              -1.00028816e+01,  1.90026274e+01, -1.27136297e+01,\n",
      "               6.23298334e+00, -2.16101350e+00, -3.23506467e+01,\n",
      "               1.47797500e+01,  1.46245390e+01,  1.10370917e+01,\n",
      "               7.28977357e+00,  2.97204743e+01,  1.27830741e+01,\n",
      "               7.13616436e+00,  2.05956520e+01,  6.64794373e+00,\n",
      "               2.28689745e-01,  5.70887587e+00, -6.49527027e+01,\n",
      "              -1.11267383e+01,  2.56230205e+01,  9.93701576e+00,\n",
      "              -7.09189350e-01,  4.08543562e+00,  5.16980552e+00,\n",
      "               4.63908971e+01,  6.41784959e+00, -8.89405476e+00,\n",
      "              -5.52869763e+01,  4.84744148e+00,  1.01023367e+01,\n",
      "               0.00000000e+00,  0.00000000e+00,  0.00000000e+00,\n",
      "               0.00000000e+00,  1.66195598e+01,  1.00038041e+01,\n",
      "               1.05422753e+01,  6.96675285e+00,  0.00000000e+00,\n",
      "               1.83875434e+01,  4.79819477e+00,  4.34485090e+00,\n",
      "               1.02311067e+01,  0.00000000e+00,  3.74956558e+00]])\n",
      "Multinomial intercepts: [7.5769571265343885]\n",
      "objectiveHistory:\n",
      "0.23505855408181808\n",
      "0.08229953124589477\n",
      "0.04789281339319744\n",
      "0.03160356120781965\n",
      "0.020191905108526524\n",
      "0.01323364456970582\n",
      "0.009926299061669893\n",
      "0.007298625736695\n",
      "0.0057962342085194785\n",
      "0.004559014039825172\n",
      "0.0030685522007459047\n",
      "0.0027026893611080695\n",
      "0.002383430719301176\n",
      "0.0023124593054409657\n",
      "0.0021775665365700307\n",
      "0.0021374991923862087\n",
      "0.0021132000685961747\n",
      "0.0020947109746722852\n",
      "0.0020869209399085697\n",
      "0.00208269515948852\n",
      "0.0020805650678567223\n",
      "0.0020794879463372994\n",
      "0.0020791048415392966\n",
      "0.0020787741161646975\n",
      "0.0020785780908292944\n",
      "0.00207850429856876\n",
      "0.0020784502787829957\n",
      "0.0020784273865813527\n",
      "0.0020784148113330275\n",
      "0.002078408623527305\n",
      "0.0020784054929661733\n",
      "0.0020784054760652148\n",
      "0.0020784039224246553\n",
      "0.002078403132662954\n",
      "0.0020784027385236732\n"
     ]
    },
    {
     "name": "stdout",
     "output_type": "stream",
     "text": [
      "+---+------+\n",
      "|FPR|   TPR|\n",
      "+---+------+\n",
      "|0.0|   0.0|\n",
      "|0.0|0.9232|\n",
      "|0.0| 0.928|\n",
      "|0.0|0.9312|\n",
      "|0.0|0.9328|\n",
      "|0.0|0.9376|\n",
      "|0.0|0.9392|\n",
      "|0.0|0.9408|\n",
      "|0.0|0.9424|\n",
      "|0.0|0.9456|\n",
      "|0.0|0.9472|\n",
      "|0.0|0.9488|\n",
      "|0.0|0.9504|\n",
      "|0.0| 0.952|\n",
      "|0.0|0.9536|\n",
      "|0.0|0.9552|\n",
      "|0.0|0.9568|\n",
      "|0.0|0.9584|\n",
      "|0.0|  0.96|\n",
      "|0.0|0.9616|\n",
      "+---+------+\n",
      "only showing top 20 rows\n",
      "\n",
      "areaUnderROC: 0.9999809523809523\n"
     ]
    },
    {
     "data": {
      "text/plain": [
       "LogisticRegression_4841b5872990cbb44df4"
      ]
     },
     "execution_count": 18,
     "metadata": {},
     "output_type": "execute_result"
    }
   ],
   "source": [
    "print(\"Test Area Under ROC: \" + str(evaluator.evaluate(lr_predictions.predictions, {evaluator.metricName: \"areaUnderROC\"})))\n",
    "\n",
    "# Print the coefficients and intercepts for logistic regression with multinomial family\n",
    "print(\"Multinomial coefficients: \" + str(lrModel.coefficientMatrix))\n",
    "print(\"Multinomial intercepts: \" + str(lrModel.interceptVector))\n",
    "\n",
    "trainingSummary = lrModel.summary\n",
    "\n",
    "# Obtain the objective per iteration\n",
    "objectiveHistory = trainingSummary.objectiveHistory\n",
    "print(\"objectiveHistory:\")\n",
    "for objective in objectiveHistory:\n",
    "    print(objective)\n",
    "\n",
    "# Obtain the receiver-operating characteristic as a dataframe and areaUnderROC.\n",
    "trainingSummary.roc.show()\n",
    "print(\"areaUnderROC: \" + str(trainingSummary.areaUnderROC))\n",
    "\n",
    "# Set the model threshold to maximize F-Measure\n",
    "fMeasure = trainingSummary.fMeasureByThreshold\n",
    "maxFMeasure = fMeasure.groupBy().max('F-Measure').select('max(F-Measure)').head()\n",
    "bestThreshold = fMeasure.where(fMeasure['F-Measure'] == maxFMeasure['max(F-Measure)']) \\\n",
    "    .select('threshold').head()['threshold']\n",
    "lr.setThreshold(bestThreshold)"
   ]
  },
  {
   "cell_type": "code",
   "execution_count": 19,
   "metadata": {},
   "outputs": [
    {
     "data": {
      "text/plain": [
       "SparseVector(660, {25: 0.1143, 27: 0.1272, 100: 0.0938, 521: 0.1687, 524: 0.496})"
      ]
     },
     "execution_count": 19,
     "metadata": {},
     "output_type": "execute_result"
    }
   ],
   "source": [
    "dtModel.featureImportances"
   ]
  },
  {
   "cell_type": "code",
   "execution_count": 20,
   "metadata": {},
   "outputs": [
    {
     "data": {
      "text/plain": [
       "SparseVector(660, {1: 0.0021, 7: 0.0015, 25: 0.0011, 27: 0.0029, 43: 0.0105, 79: 0.025, 87: 0.0139, 90: 0.0051, 98: 0.0001, 117: 0.0002, 139: 0.0496, 147: 0.0745, 167: 0.0089, 171: 0.0169, 190: 0.0369, 201: 0.0084, 207: 0.0429, 234: 0.0299, 282: 0.0056, 297: 0.0034, 343: 0.0082, 370: 0.0396, 392: 0.0217, 401: 0.0125, 433: 0.004, 436: 0.0178, 438: 0.0016, 442: 0.0001, 448: 0.0004, 451: 0.0038, 453: 0.065, 456: 0.0074, 462: 0.0027, 464: 0.034, 475: 0.0174, 502: 0.0338, 504: 0.0082, 507: 0.0213, 521: 0.1164, 522: 0.029, 524: 0.0702, 525: 0.0051, 526: 0.0017, 527: 0.0173, 529: 0.0337, 536: 0.0233, 568: 0.0051, 572: 0.0057, 583: 0.0136, 608: 0.0064, 610: 0.0139, 612: 0.0031, 614: 0.0002, 615: 0.008, 620: 0.0, 641: 0.0082})"
      ]
     },
     "execution_count": 20,
     "metadata": {},
     "output_type": "execute_result"
    }
   ],
   "source": [
    "rfModel.featureImportances"
   ]
  },
  {
   "cell_type": "code",
   "execution_count": 26,
   "metadata": {},
   "outputs": [
    {
     "name": "stdout",
     "output_type": "stream",
     "text": [
      "GBT\n",
      "0.6045932484781406\n"
     ]
    }
   ],
   "source": [
    "from pyspark.ml.classification import GBTClassifier\n",
    "from pyspark.ml.evaluation import MulticlassClassificationEvaluator\n",
    "\n",
    "gbt = GBTClassifier(labelCol='alive',featuresCol='features')\n",
    "gbt_model = gbt.fit(trainingData)\n",
    "\n",
    "gbt_predictions = gbt_model.transform(testData)\n",
    "\n",
    "my_binary_gbt_eval = BinaryClassificationEvaluator(labelCol='alive', rawPredictionCol='prediction')\n",
    "print(\"GBT\")\n",
    "print(my_binary_gbt_eval.evaluate(gbt_predictions))\n"
   ]
  },
  {
   "cell_type": "code",
   "execution_count": 23,
   "metadata": {},
   "outputs": [
    {
     "ename": "AttributeError",
     "evalue": "'GBTClassificationModel' object has no attribute 'schema'",
     "output_type": "error",
     "traceback": [
      "\u001b[0;31m---------------------------------------------------------------------------\u001b[0m",
      "\u001b[0;31mAttributeError\u001b[0m                            Traceback (most recent call last)",
      "\u001b[0;32m<ipython-input-23-1ea68b4ef9ea>\u001b[0m in \u001b[0;36m<module>\u001b[0;34m()\u001b[0m\n\u001b[0;32m----> 1\u001b[0;31m \u001b[0mprint\u001b[0m\u001b[0;34m(\u001b[0m\u001b[0mgbt_model\u001b[0m\u001b[0;34m.\u001b[0m\u001b[0mschema\u001b[0m\u001b[0;34m)\u001b[0m\u001b[0;34m\u001b[0m\u001b[0m\n\u001b[0m",
      "\u001b[0;31mAttributeError\u001b[0m: 'GBTClassificationModel' object has no attribute 'schema'"
     ]
    }
   ],
   "source": [
    "print(gbt_model.schema)"
   ]
  },
  {
   "cell_type": "code",
   "execution_count": null,
   "metadata": {},
   "outputs": [],
   "source": []
  }
 ],
 "metadata": {
  "kernelspec": {
   "display_name": "Python 3",
   "language": "python",
   "name": "python3"
  },
  "language_info": {
   "codemirror_mode": {
    "name": "ipython",
    "version": 3
   },
   "file_extension": ".py",
   "mimetype": "text/x-python",
   "name": "python",
   "nbconvert_exporter": "python",
   "pygments_lexer": "ipython3",
   "version": "3.5.2"
  }
 },
 "nbformat": 4,
 "nbformat_minor": 2
}
